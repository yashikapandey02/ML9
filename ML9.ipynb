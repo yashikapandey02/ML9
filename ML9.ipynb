{
 "cells": [
  {
   "cell_type": "code",
   "execution_count": null,
   "id": "9b064180",
   "metadata": {},
   "outputs": [],
   "source": [
    "1. What is feature engineering, and how does it work? Explain the various aspects of feature engineering in depth.\n",
    "\n",
    "Ans: \n",
    "Using domain knowledge of data to transform features into higher or lower dimension and to create new features from existing\n",
    "features is feature engineering.\n",
    "\n",
    "Various aspects of feature engineering include:\n",
    "\n",
    "    Understanding the problem statement.\n",
    "    Train a baseline model and calculate its performance metric\n",
    "    Reaching a conclusion about what features to create\n",
    "    Create features\n",
    "    Calculating how good new features contribute by training and testing and comparing the baseline performance metric\n",
    "    Improve the features if need be."
   ]
  },
  {
   "cell_type": "code",
   "execution_count": null,
   "id": "a852e30e",
   "metadata": {},
   "outputs": [],
   "source": [
    "2. What is feature selection, and how does it work? What is the aim of it? What are the various methods of function selection?\n",
    "\n",
    "Ans:\n",
    "Feature selection is the process of calculating the contribution in terms of information and performance increase to the machine\n",
    "learning model and removing those features that have little to no contribution or are detrimental to the model.Feature selection\n",
    "works by finding irrelevant and redundant features and removing them from the machine learning process.\n",
    "\n",
    "Aim of feature selection is to decrease learning time, performance and increase model interpretability.\n",
    "\n",
    "    i.Filter methods\n",
    "\n",
    "Computationally less taxing, filter methods rely on finding the statistics for each feature. Example: Correlation coefficient.\n",
    "\n",
    "   ii. Wrapper methods\n",
    "\n",
    "All possibilities of subsets from features are tested by training a machine learning model on it and weighing the subset's\n",
    "quality using performance metrics. They are computationally taxing but have greater accuracy. Example: Forward Feature Selection\n",
    "    \n",
    "\n",
    "   iii. Embedded methods\n",
    "\n",
    "At the expense of manageable computational costs, Embedded methods provide the benefits of both Filter and Wrapper methods.\n",
    "\n",
    "   iv. Hybrid methods\n",
    "\n",
    "Methods like feature ranking are used in Hybrid methods.\n"
   ]
  },
  {
   "cell_type": "code",
   "execution_count": null,
   "id": "d47b3284",
   "metadata": {},
   "outputs": [],
   "source": [
    "3. Describe the function selection filter and wrapper approaches. State the pros and cons of each approach?\n",
    "\n",
    "Ans:Filter methods rely on finding the statistics for each feature to select the features with highest contributions to the machine \n",
    "learning model. These statistics are calculated for both categorical and numerical data. For numerical data, statistics like \n",
    "Correlation coefficients and for categorical data, statistics like the Chi-Square test are applied between two features to find\n",
    "probability of correlation(linear and non-linear).\n",
    "\n",
    "Advantage:--- Less computational cost Disadvantage:--- Less accurate, cannot handle multicollinearity\n",
    "\n",
    "Wrapper methods rely on an iterative approach where model is trained over subsets of features and tested using a performance \n",
    "metric, using which we can decide to keep features or discard them by comparing the recent performance score with the last score\n",
    ".\n",
    "\n",
    "Advantage:--- Most accurate Disadvantage:--- Computationally expensive\n"
   ]
  },
  {
   "cell_type": "code",
   "execution_count": null,
   "id": "b2f651f5",
   "metadata": {},
   "outputs": [],
   "source": []
  },
  {
   "cell_type": "code",
   "execution_count": null,
   "id": "949d08b8",
   "metadata": {},
   "outputs": [],
   "source": [
    "4. i. Describe the overall feature selection process.\n",
    "\n",
    "Ans:Using the problem statement, a feature selection approach is selected keeping in mind the advantages and disadvantages that come\n",
    "with it. Data is cleaned thoroughly.\n",
    "\n",
    "Next, we choose a method of feature selection technique from the feature selection approach. Features are selected or included\n",
    "into the main model training based on univariate statistics or iterative approach where the contribution of features are \n",
    "measured.\n",
    "\n",
    "ii. Explain the key underlying principle of feature extraction using an example. What are the most widely used function \n",
    "extraction algorithms?\n",
    "\n",
    "The key principle of feature extraction is to build important features from data by reformatting, combining and transforming \n",
    "features over and over again until a new set of features is created which can give more concise information to a machine \n",
    "learning model than some high dimensional data.\n",
    "\n",
    "The MNIST database consists of 60,000 digits data as training data. Such a high dimensionality data has to be reduced for the\n",
    "machine learning model to be more accurate and take less training time. Dimensionality reduction in the form of feature \n",
    "extraction is done where the features are reduced to a combination of variables that can still describe the same data as before.\n",
    "Non Linear Dimensionality Reduction, Principal Component Analysis method are some of the most widely used techniques.\n"
   ]
  },
  {
   "cell_type": "code",
   "execution_count": null,
   "id": "e59f9f81",
   "metadata": {},
   "outputs": [],
   "source": [
    "5. Describe the feature engineering process in the sense of a text categorization issue.\n",
    "\n",
    "Ans:Text categorization or text classification based on tags requires a feature engineering because machine cannot understand words.\n",
    "After the corpus has been converted to a numerical data using TF-IDF or Bag of Words, feature engineering technique is applied \n",
    "so that parts of speech tagging is more accurate.\n"
   ]
  },
  {
   "cell_type": "code",
   "execution_count": null,
   "id": "69e74fae",
   "metadata": {},
   "outputs": [],
   "source": [
    "6. What makes cosine similarity a good metric for text categorization? A document-term matrix has two rows with values of \n",
    "(2, 3, 2, 0, 2, 3, 3, 0, 1) and (2, 1, 0, 0, 3, 2, 1, 3, 1). Find the resemblance in cosine."
   ]
  },
  {
   "cell_type": "code",
   "execution_count": null,
   "id": "3527a218",
   "metadata": {},
   "outputs": [],
   "source": [
    "Cosine Similarity a measure of similarity and is used for its good performance and computational efficiency. Even if two \n",
    "similar documents are far apart in terms of distance and frequency of words differ, presence of smaller angles between the \n",
    "vectors of data points make it beneficial for detection of similarity and hence cosine similarity is able to check whether the\n",
    "classifications made are correct or not. Duplication of words in text is important from analysis point of view and is good for \n",
    "measuring this duplication."
   ]
  },
  {
   "cell_type": "code",
   "execution_count": 1,
   "id": "2084bf3f",
   "metadata": {},
   "outputs": [
    {
     "name": "stdout",
     "output_type": "stream",
     "text": [
      "0.6753032524419089\n"
     ]
    }
   ],
   "source": [
    "from math import sqrt\n",
    "\n",
    "\n",
    "numerator = (2*2)+(3*1)+(2*0)+(0*0)+(2*3)+(3*2)+(3*1)+(0*3)+(1*1)\n",
    "denominator = sqrt(4+9+4+4+9+9+1)*sqrt(4+1+9+4+1+9+1)\n",
    "\n",
    "similarity = numerator/denominator\n",
    "print(similarity)\n",
    "\n"
   ]
  },
  {
   "cell_type": "code",
   "execution_count": null,
   "id": "5429fce1",
   "metadata": {},
   "outputs": [],
   "source": [
    "7. i. What is the formula for calculating Hamming distance? Between 10001011 and 11001111, calculate the Hamming gap."
   ]
  },
  {
   "cell_type": "code",
   "execution_count": null,
   "id": "3884187c",
   "metadata": {},
   "outputs": [],
   "source": [
    "Ans:\n",
    "Hamming distance is calculated as the number of bit places where any two bit strings are different.\n",
    "\n",
    "Hamming distance between 10001011 and 11001111 would be 2"
   ]
  },
  {
   "cell_type": "code",
   "execution_count": null,
   "id": "29004fc2",
   "metadata": {},
   "outputs": [],
   "source": [
    "ii. Compare the Jaccard index and similarity matching coefficient of two features with values (1, 1, 0, 0, 1, 0, 1, 1) \n",
    "and (1, 1, 0, 0, 0, 1, 1, 1), respectively (1, 0, 0, 1, 1, 0, 0, 1)."
   ]
  },
  {
   "cell_type": "code",
   "execution_count": 2,
   "id": "1440a559",
   "metadata": {},
   "outputs": [
    {
     "name": "stdout",
     "output_type": "stream",
     "text": [
      "50.0\n",
      "0.625\n"
     ]
    }
   ],
   "source": [
    "A = (1, 1, 0, 0, 1, 0, 1, 1)\n",
    "C = (1, 0, 0, 1, 1, 0, 0, 1)\n",
    "\n",
    "Jac_ind1 = (2/4)*100\n",
    "SMC1 = 5/8\n",
    "print(Jac_ind1)\n",
    "print(SMC1)"
   ]
  },
  {
   "cell_type": "code",
   "execution_count": 3,
   "id": "646f2e64",
   "metadata": {},
   "outputs": [
    {
     "name": "stdout",
     "output_type": "stream",
     "text": [
      "50.0\n",
      "0.375\n"
     ]
    }
   ],
   "source": [
    "B = (1, 1, 0, 0, 0, 1, 1, 1)\n",
    "C = (1, 0, 0, 1, 1, 0, 0, 1)\n",
    "\n",
    "Jac_ind2 = (2/4)*100\n",
    "SMC2 = 3/8\n",
    "print(Jac_ind2)\n",
    "print(SMC2)"
   ]
  },
  {
   "cell_type": "code",
   "execution_count": null,
   "id": "b2ecd819",
   "metadata": {},
   "outputs": [],
   "source": [
    "8. State what is meant by \"high-dimensional data set\"? Could you offer a few real-life examples? What are the difficulties in\n",
    "using machine learning techniques on a data set with many dimensions? What can be done about it?"
   ]
  },
  {
   "cell_type": "code",
   "execution_count": null,
   "id": "bd080ebd",
   "metadata": {},
   "outputs": [],
   "source": [
    "Ans:High dimensional data set means that there are high number of features present in the dataset, so high that dimensionality\n",
    "    of the dataset becomes detrimental to the learning phase of the machine learning model. In a high dimensional data, number \n",
    "    of features can be greater than or equal to the number of observations.\n",
    "\n",
    "\n",
    "    Real life examples:\n",
    "\n",
    "Gene sequencing data, spatio-temporal data, sociology based data.\n",
    "\n",
    "The time space complexity is different for each machine learning algorithm, but each suffers from high dimensional data. The \n",
    "curse of dimensionality is at play here. High dimensional data not only slows down the training phase because of the number of \n",
    "computations the algorithm needs to perform increases in quadratic and cubic orders for some algorithms, it also affects the \n",
    "accuracy of algorithms due to presence of correlations that do not make sense and also results in overfitting.\n",
    "High dimensional data can be processed using feature selection procedures, or dimensionality reduction techniques.\n",
    "    "
   ]
  },
  {
   "cell_type": "code",
   "execution_count": null,
   "id": "7645a533",
   "metadata": {},
   "outputs": [],
   "source": [
    "9. Make a few quick notes on:\n",
    "Ans:\n",
    "i. PCA is an acronym for Personal Computer Analysis.\n",
    "\n",
    "PCA is not an acronym for Personal Computer Analysis, but for Principal Component Analysis. Principal Component Analysis is a \n",
    "dimensionality reduction technique used to reduce dimensionality of a dataset. PCA uses calculation of eigen values and eigen \n",
    "vectors to create new features that contribute most to the training phase without affecting training times.\n",
    "\n",
    "ii. Use of vectors\n",
    "\n",
    "Vectors find high usage in linear algebra and linear algebra based applications like the Support Vector Machines for\n",
    "classification problems. Vectors are often used to understand machine learning algorithms via geometric intuition. Vectors are\n",
    "also used in Exploratory Data Analysis and handling of data.\n",
    "\n",
    "iii. Embedded technique\n",
    "\n",
    "Embedded technique or method is a one of feature selection approaches in which the feature selection takes place while the model\n",
    "is being trained. Algorithms take care of feature selection on their own and train themselves at the same time. Algorithms like\n",
    "Random Forest support feature importance and can identify which feature is being used most to train the machine learning model.\n",
    "\n",
    "Regularization methods like L1 regularization is also used in feature selection as penalties are imposed and coefficents for \n",
    "features not contributing to the training phase can be put to 0, hence effectively removing the features.\n"
   ]
  },
  {
   "cell_type": "code",
   "execution_count": null,
   "id": "31c3da0f",
   "metadata": {},
   "outputs": [],
   "source": [
    "10. Make a comparison between:\n",
    "Ans: \n",
    "i. Sequential backward exclusion vs. sequential forward selection\n",
    "\n",
    "sequential forward selection:--- Against a defined metric, first feature is chosen after a model is trained and produces the\n",
    "metric. Next feature is selected by searching for that feature which when clubbed with the first chosen feature gives best \n",
    "performance metric results via model training. More and more features are selected one by one while measuring the contribution \n",
    "of the clubbed features in each iteration against the metric using model trained on clubbed features till the required number \n",
    "of features are selected.\n",
    "\n",
    "Sequential backward exclusion:--- A model is trained on all features and the metric score is calculated. In each iteration, a \n",
    "feature is found which if removed from the collection of features, improves the metric score. This goes on and features are \n",
    "discarded one by one, improving performance metric score with each iteration until predefined number of features are left.\n",
    "\n",
    "ii. Function selection methods: filter vs. wrapper\n",
    "\n",
    "Filter methods rely on finding the statistics for each feature to select the features with highest contributions to the machine \n",
    "learning model. These statistics are calculated for both categorical and numerical data. For numerical data, statistics like \n",
    "Correlation coefficients and for categorical data, statistics like the Chi-Square test are applied between two features to find \n",
    "probability of correlation(linear and non-linear).\n",
    "\n",
    "Wrapper approach is an iterative approach in feature selection where all combinations of subset of features is used to train the\n",
    "model and a perfomance metric is used to test the model and check of there is an improvement of score over the previous \n",
    "iteration where a different subset of features were used. Examples of this technique are forward feature selection and backward \n",
    "feature selection.\n",
    "\n",
    "iii. SMC vs. Jaccard coefficient\n",
    "\n",
    "SMC or Simple Matching Index is defined as the number of matching attributes divided by total number of attributes. SMC can only\n",
    "be applied to observations with equal number of data points. SMC is most useful in binary attributes.\n",
    "\n",
    "Jaccard coefficient, also called Jaccard index is a measure of similarity of sets. It is defined as Modulus of A intersection B \n",
    "divided by modulus of A union B.\n"
   ]
  }
 ],
 "metadata": {
  "kernelspec": {
   "display_name": "Python 3 (ipykernel)",
   "language": "python",
   "name": "python3"
  },
  "language_info": {
   "codemirror_mode": {
    "name": "ipython",
    "version": 3
   },
   "file_extension": ".py",
   "mimetype": "text/x-python",
   "name": "python",
   "nbconvert_exporter": "python",
   "pygments_lexer": "ipython3",
   "version": "3.9.7"
  }
 },
 "nbformat": 4,
 "nbformat_minor": 5
}
